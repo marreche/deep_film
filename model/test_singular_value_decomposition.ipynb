{
 "cells": [
  {
   "cell_type": "code",
   "execution_count": 1,
   "metadata": {},
   "outputs": [],
   "source": [
    "from scipy.sparse.linalg import svds\n",
    "import pandas as pd\n",
    "import numpy as np"
   ]
  },
  {
   "cell_type": "code",
   "execution_count": 2,
   "metadata": {},
   "outputs": [
    {
     "name": "stderr",
     "output_type": "stream",
     "text": [
      "/home/marrechea/miniconda3/envs/movies/lib/python3.8/site-packages/IPython/core/interactiveshell.py:3145: DtypeWarning: Columns (10) have mixed types.Specify dtype option on import or set low_memory=False.\n",
      "  has_raised = await self.run_ast_nodes(code_ast.body, cell_name,\n"
     ]
    }
   ],
   "source": [
    "ratings = pd.read_csv(\"/home/marrechea/deep_film/data/ratings_small.csv\")\n",
    "movies = pd.read_csv(\"/home/marrechea/deep_film/data/movies_metadata.csv\")"
   ]
  },
  {
   "cell_type": "code",
   "execution_count": 3,
   "metadata": {},
   "outputs": [
    {
     "data": {
      "text/plain": [
       "Index(['adult', 'belongs_to_collection', 'budget', 'genres', 'homepage', 'id',\n",
       "       'imdb_id', 'original_language', 'original_title', 'overview',\n",
       "       'popularity', 'poster_path', 'production_companies',\n",
       "       'production_countries', 'release_date', 'revenue', 'runtime',\n",
       "       'spoken_languages', 'status', 'tagline', 'title', 'video',\n",
       "       'vote_average', 'vote_count'],\n",
       "      dtype='object')"
      ]
     },
     "execution_count": 3,
     "metadata": {},
     "output_type": "execute_result"
    }
   ],
   "source": [
    "movies.columns"
   ]
  },
  {
   "cell_type": "code",
   "execution_count": 4,
   "metadata": {},
   "outputs": [],
   "source": [
    "movies = movies.drop(columns=['adult', 'belongs_to_collection', 'budget', 'genres', 'homepage',\n",
    "       'imdb_id', 'original_language', 'original_title', 'overview',\n",
    "       'popularity', 'poster_path', 'production_companies',\n",
    "       'production_countries', 'release_date', 'revenue', 'runtime',\n",
    "       'spoken_languages', 'status', 'tagline', 'video',\n",
    "       'vote_average', 'vote_count'])"
   ]
  },
  {
   "cell_type": "code",
   "execution_count": 5,
   "metadata": {},
   "outputs": [
    {
     "data": {
      "text/html": [
       "<div>\n",
       "<style scoped>\n",
       "    .dataframe tbody tr th:only-of-type {\n",
       "        vertical-align: middle;\n",
       "    }\n",
       "\n",
       "    .dataframe tbody tr th {\n",
       "        vertical-align: top;\n",
       "    }\n",
       "\n",
       "    .dataframe thead th {\n",
       "        text-align: right;\n",
       "    }\n",
       "</style>\n",
       "<table border=\"1\" class=\"dataframe\">\n",
       "  <thead>\n",
       "    <tr style=\"text-align: right;\">\n",
       "      <th></th>\n",
       "      <th>id</th>\n",
       "      <th>title</th>\n",
       "    </tr>\n",
       "  </thead>\n",
       "  <tbody>\n",
       "    <tr>\n",
       "      <th>0</th>\n",
       "      <td>862</td>\n",
       "      <td>Toy Story</td>\n",
       "    </tr>\n",
       "    <tr>\n",
       "      <th>1</th>\n",
       "      <td>8844</td>\n",
       "      <td>Jumanji</td>\n",
       "    </tr>\n",
       "    <tr>\n",
       "      <th>2</th>\n",
       "      <td>15602</td>\n",
       "      <td>Grumpier Old Men</td>\n",
       "    </tr>\n",
       "  </tbody>\n",
       "</table>\n",
       "</div>"
      ],
      "text/plain": [
       "      id             title\n",
       "0    862         Toy Story\n",
       "1   8844           Jumanji\n",
       "2  15602  Grumpier Old Men"
      ]
     },
     "execution_count": 5,
     "metadata": {},
     "output_type": "execute_result"
    }
   ],
   "source": [
    "movies.head(3)"
   ]
  },
  {
   "cell_type": "code",
   "execution_count": 6,
   "metadata": {},
   "outputs": [
    {
     "data": {
      "text/html": [
       "<div>\n",
       "<style scoped>\n",
       "    .dataframe tbody tr th:only-of-type {\n",
       "        vertical-align: middle;\n",
       "    }\n",
       "\n",
       "    .dataframe tbody tr th {\n",
       "        vertical-align: top;\n",
       "    }\n",
       "\n",
       "    .dataframe thead th {\n",
       "        text-align: right;\n",
       "    }\n",
       "</style>\n",
       "<table border=\"1\" class=\"dataframe\">\n",
       "  <thead>\n",
       "    <tr style=\"text-align: right;\">\n",
       "      <th></th>\n",
       "      <th>movieId</th>\n",
       "      <th>title</th>\n",
       "    </tr>\n",
       "  </thead>\n",
       "  <tbody>\n",
       "    <tr>\n",
       "      <th>0</th>\n",
       "      <td>862</td>\n",
       "      <td>Toy Story</td>\n",
       "    </tr>\n",
       "    <tr>\n",
       "      <th>1</th>\n",
       "      <td>8844</td>\n",
       "      <td>Jumanji</td>\n",
       "    </tr>\n",
       "    <tr>\n",
       "      <th>2</th>\n",
       "      <td>15602</td>\n",
       "      <td>Grumpier Old Men</td>\n",
       "    </tr>\n",
       "  </tbody>\n",
       "</table>\n",
       "</div>"
      ],
      "text/plain": [
       "  movieId             title\n",
       "0     862         Toy Story\n",
       "1    8844           Jumanji\n",
       "2   15602  Grumpier Old Men"
      ]
     },
     "execution_count": 6,
     "metadata": {},
     "output_type": "execute_result"
    }
   ],
   "source": [
    "movies = movies.rename(columns={\"id\": \"movieId\"})\n",
    "movies.head(3)"
   ]
  },
  {
   "cell_type": "code",
   "execution_count": 7,
   "metadata": {},
   "outputs": [
    {
     "data": {
      "text/html": [
       "<div>\n",
       "<style scoped>\n",
       "    .dataframe tbody tr th:only-of-type {\n",
       "        vertical-align: middle;\n",
       "    }\n",
       "\n",
       "    .dataframe tbody tr th {\n",
       "        vertical-align: top;\n",
       "    }\n",
       "\n",
       "    .dataframe thead th {\n",
       "        text-align: right;\n",
       "    }\n",
       "</style>\n",
       "<table border=\"1\" class=\"dataframe\">\n",
       "  <thead>\n",
       "    <tr style=\"text-align: right;\">\n",
       "      <th></th>\n",
       "      <th>userId</th>\n",
       "      <th>movieId</th>\n",
       "      <th>rating</th>\n",
       "      <th>timestamp</th>\n",
       "    </tr>\n",
       "  </thead>\n",
       "  <tbody>\n",
       "    <tr>\n",
       "      <th>0</th>\n",
       "      <td>1</td>\n",
       "      <td>31</td>\n",
       "      <td>2.5</td>\n",
       "      <td>1260759144</td>\n",
       "    </tr>\n",
       "    <tr>\n",
       "      <th>1</th>\n",
       "      <td>1</td>\n",
       "      <td>1029</td>\n",
       "      <td>3.0</td>\n",
       "      <td>1260759179</td>\n",
       "    </tr>\n",
       "    <tr>\n",
       "      <th>2</th>\n",
       "      <td>1</td>\n",
       "      <td>1061</td>\n",
       "      <td>3.0</td>\n",
       "      <td>1260759182</td>\n",
       "    </tr>\n",
       "  </tbody>\n",
       "</table>\n",
       "</div>"
      ],
      "text/plain": [
       "   userId  movieId  rating   timestamp\n",
       "0       1       31     2.5  1260759144\n",
       "1       1     1029     3.0  1260759179\n",
       "2       1     1061     3.0  1260759182"
      ]
     },
     "execution_count": 7,
     "metadata": {},
     "output_type": "execute_result"
    }
   ],
   "source": [
    "ratings.head(3)"
   ]
  },
  {
   "cell_type": "code",
   "execution_count": 8,
   "metadata": {},
   "outputs": [
    {
     "data": {
      "text/plain": [
       "(100004, 4)"
      ]
     },
     "execution_count": 8,
     "metadata": {},
     "output_type": "execute_result"
    }
   ],
   "source": [
    "ratings.shape"
   ]
  },
  {
   "cell_type": "code",
   "execution_count": 9,
   "metadata": {},
   "outputs": [],
   "source": [
    "ratings = ratings.drop(columns=[\"timestamp\"])"
   ]
  },
  {
   "cell_type": "code",
   "execution_count": 10,
   "metadata": {},
   "outputs": [
    {
     "data": {
      "text/html": [
       "<div>\n",
       "<style scoped>\n",
       "    .dataframe tbody tr th:only-of-type {\n",
       "        vertical-align: middle;\n",
       "    }\n",
       "\n",
       "    .dataframe tbody tr th {\n",
       "        vertical-align: top;\n",
       "    }\n",
       "\n",
       "    .dataframe thead th {\n",
       "        text-align: right;\n",
       "    }\n",
       "</style>\n",
       "<table border=\"1\" class=\"dataframe\">\n",
       "  <thead>\n",
       "    <tr style=\"text-align: right;\">\n",
       "      <th></th>\n",
       "      <th>userId</th>\n",
       "      <th>movieId</th>\n",
       "      <th>rating</th>\n",
       "    </tr>\n",
       "  </thead>\n",
       "  <tbody>\n",
       "    <tr>\n",
       "      <th>0</th>\n",
       "      <td>1</td>\n",
       "      <td>31</td>\n",
       "      <td>2.5</td>\n",
       "    </tr>\n",
       "    <tr>\n",
       "      <th>1</th>\n",
       "      <td>1</td>\n",
       "      <td>1029</td>\n",
       "      <td>3.0</td>\n",
       "    </tr>\n",
       "    <tr>\n",
       "      <th>2</th>\n",
       "      <td>1</td>\n",
       "      <td>1061</td>\n",
       "      <td>3.0</td>\n",
       "    </tr>\n",
       "    <tr>\n",
       "      <th>3</th>\n",
       "      <td>1</td>\n",
       "      <td>1129</td>\n",
       "      <td>2.0</td>\n",
       "    </tr>\n",
       "    <tr>\n",
       "      <th>4</th>\n",
       "      <td>1</td>\n",
       "      <td>1172</td>\n",
       "      <td>4.0</td>\n",
       "    </tr>\n",
       "    <tr>\n",
       "      <th>5</th>\n",
       "      <td>1</td>\n",
       "      <td>1263</td>\n",
       "      <td>2.0</td>\n",
       "    </tr>\n",
       "    <tr>\n",
       "      <th>6</th>\n",
       "      <td>1</td>\n",
       "      <td>1287</td>\n",
       "      <td>2.0</td>\n",
       "    </tr>\n",
       "    <tr>\n",
       "      <th>7</th>\n",
       "      <td>1</td>\n",
       "      <td>1293</td>\n",
       "      <td>2.0</td>\n",
       "    </tr>\n",
       "    <tr>\n",
       "      <th>8</th>\n",
       "      <td>1</td>\n",
       "      <td>1339</td>\n",
       "      <td>3.5</td>\n",
       "    </tr>\n",
       "    <tr>\n",
       "      <th>9</th>\n",
       "      <td>1</td>\n",
       "      <td>1343</td>\n",
       "      <td>2.0</td>\n",
       "    </tr>\n",
       "  </tbody>\n",
       "</table>\n",
       "</div>"
      ],
      "text/plain": [
       "   userId  movieId  rating\n",
       "0       1       31     2.5\n",
       "1       1     1029     3.0\n",
       "2       1     1061     3.0\n",
       "3       1     1129     2.0\n",
       "4       1     1172     4.0\n",
       "5       1     1263     2.0\n",
       "6       1     1287     2.0\n",
       "7       1     1293     2.0\n",
       "8       1     1339     3.5\n",
       "9       1     1343     2.0"
      ]
     },
     "execution_count": 10,
     "metadata": {},
     "output_type": "execute_result"
    }
   ],
   "source": [
    "ratings.head(10)"
   ]
  },
  {
   "cell_type": "code",
   "execution_count": 11,
   "metadata": {},
   "outputs": [
    {
     "data": {
      "text/plain": [
       "userId     0\n",
       "movieId    0\n",
       "rating     0\n",
       "dtype: int64"
      ]
     },
     "execution_count": 11,
     "metadata": {},
     "output_type": "execute_result"
    }
   ],
   "source": [
    "ratings.isna().sum()"
   ]
  },
  {
   "cell_type": "code",
   "execution_count": 12,
   "metadata": {},
   "outputs": [
    {
     "data": {
      "text/html": [
       "<div>\n",
       "<style scoped>\n",
       "    .dataframe tbody tr th:only-of-type {\n",
       "        vertical-align: middle;\n",
       "    }\n",
       "\n",
       "    .dataframe tbody tr th {\n",
       "        vertical-align: top;\n",
       "    }\n",
       "\n",
       "    .dataframe thead th {\n",
       "        text-align: right;\n",
       "    }\n",
       "</style>\n",
       "<table border=\"1\" class=\"dataframe\">\n",
       "  <thead>\n",
       "    <tr style=\"text-align: right;\">\n",
       "      <th>movieId</th>\n",
       "      <th>1</th>\n",
       "      <th>2</th>\n",
       "      <th>3</th>\n",
       "      <th>4</th>\n",
       "      <th>5</th>\n",
       "      <th>6</th>\n",
       "      <th>7</th>\n",
       "      <th>8</th>\n",
       "      <th>9</th>\n",
       "      <th>10</th>\n",
       "      <th>...</th>\n",
       "      <th>161084</th>\n",
       "      <th>161155</th>\n",
       "      <th>161594</th>\n",
       "      <th>161830</th>\n",
       "      <th>161918</th>\n",
       "      <th>161944</th>\n",
       "      <th>162376</th>\n",
       "      <th>162542</th>\n",
       "      <th>162672</th>\n",
       "      <th>163949</th>\n",
       "    </tr>\n",
       "    <tr>\n",
       "      <th>userId</th>\n",
       "      <th></th>\n",
       "      <th></th>\n",
       "      <th></th>\n",
       "      <th></th>\n",
       "      <th></th>\n",
       "      <th></th>\n",
       "      <th></th>\n",
       "      <th></th>\n",
       "      <th></th>\n",
       "      <th></th>\n",
       "      <th></th>\n",
       "      <th></th>\n",
       "      <th></th>\n",
       "      <th></th>\n",
       "      <th></th>\n",
       "      <th></th>\n",
       "      <th></th>\n",
       "      <th></th>\n",
       "      <th></th>\n",
       "      <th></th>\n",
       "      <th></th>\n",
       "    </tr>\n",
       "  </thead>\n",
       "  <tbody>\n",
       "    <tr>\n",
       "      <th>1</th>\n",
       "      <td>0.0</td>\n",
       "      <td>0.0</td>\n",
       "      <td>0.0</td>\n",
       "      <td>0.0</td>\n",
       "      <td>0.0</td>\n",
       "      <td>0.0</td>\n",
       "      <td>0.0</td>\n",
       "      <td>0.0</td>\n",
       "      <td>0.0</td>\n",
       "      <td>0.0</td>\n",
       "      <td>...</td>\n",
       "      <td>0.0</td>\n",
       "      <td>0.0</td>\n",
       "      <td>0.0</td>\n",
       "      <td>0.0</td>\n",
       "      <td>0.0</td>\n",
       "      <td>0.0</td>\n",
       "      <td>0.0</td>\n",
       "      <td>0.0</td>\n",
       "      <td>0.0</td>\n",
       "      <td>0.0</td>\n",
       "    </tr>\n",
       "    <tr>\n",
       "      <th>2</th>\n",
       "      <td>0.0</td>\n",
       "      <td>0.0</td>\n",
       "      <td>0.0</td>\n",
       "      <td>0.0</td>\n",
       "      <td>0.0</td>\n",
       "      <td>0.0</td>\n",
       "      <td>0.0</td>\n",
       "      <td>0.0</td>\n",
       "      <td>0.0</td>\n",
       "      <td>4.0</td>\n",
       "      <td>...</td>\n",
       "      <td>0.0</td>\n",
       "      <td>0.0</td>\n",
       "      <td>0.0</td>\n",
       "      <td>0.0</td>\n",
       "      <td>0.0</td>\n",
       "      <td>0.0</td>\n",
       "      <td>0.0</td>\n",
       "      <td>0.0</td>\n",
       "      <td>0.0</td>\n",
       "      <td>0.0</td>\n",
       "    </tr>\n",
       "    <tr>\n",
       "      <th>3</th>\n",
       "      <td>0.0</td>\n",
       "      <td>0.0</td>\n",
       "      <td>0.0</td>\n",
       "      <td>0.0</td>\n",
       "      <td>0.0</td>\n",
       "      <td>0.0</td>\n",
       "      <td>0.0</td>\n",
       "      <td>0.0</td>\n",
       "      <td>0.0</td>\n",
       "      <td>0.0</td>\n",
       "      <td>...</td>\n",
       "      <td>0.0</td>\n",
       "      <td>0.0</td>\n",
       "      <td>0.0</td>\n",
       "      <td>0.0</td>\n",
       "      <td>0.0</td>\n",
       "      <td>0.0</td>\n",
       "      <td>0.0</td>\n",
       "      <td>0.0</td>\n",
       "      <td>0.0</td>\n",
       "      <td>0.0</td>\n",
       "    </tr>\n",
       "    <tr>\n",
       "      <th>4</th>\n",
       "      <td>0.0</td>\n",
       "      <td>0.0</td>\n",
       "      <td>0.0</td>\n",
       "      <td>0.0</td>\n",
       "      <td>0.0</td>\n",
       "      <td>0.0</td>\n",
       "      <td>0.0</td>\n",
       "      <td>0.0</td>\n",
       "      <td>0.0</td>\n",
       "      <td>4.0</td>\n",
       "      <td>...</td>\n",
       "      <td>0.0</td>\n",
       "      <td>0.0</td>\n",
       "      <td>0.0</td>\n",
       "      <td>0.0</td>\n",
       "      <td>0.0</td>\n",
       "      <td>0.0</td>\n",
       "      <td>0.0</td>\n",
       "      <td>0.0</td>\n",
       "      <td>0.0</td>\n",
       "      <td>0.0</td>\n",
       "    </tr>\n",
       "    <tr>\n",
       "      <th>5</th>\n",
       "      <td>0.0</td>\n",
       "      <td>0.0</td>\n",
       "      <td>4.0</td>\n",
       "      <td>0.0</td>\n",
       "      <td>0.0</td>\n",
       "      <td>0.0</td>\n",
       "      <td>0.0</td>\n",
       "      <td>0.0</td>\n",
       "      <td>0.0</td>\n",
       "      <td>0.0</td>\n",
       "      <td>...</td>\n",
       "      <td>0.0</td>\n",
       "      <td>0.0</td>\n",
       "      <td>0.0</td>\n",
       "      <td>0.0</td>\n",
       "      <td>0.0</td>\n",
       "      <td>0.0</td>\n",
       "      <td>0.0</td>\n",
       "      <td>0.0</td>\n",
       "      <td>0.0</td>\n",
       "      <td>0.0</td>\n",
       "    </tr>\n",
       "  </tbody>\n",
       "</table>\n",
       "<p>5 rows × 9066 columns</p>\n",
       "</div>"
      ],
      "text/plain": [
       "movieId  1       2       3       4       5       6       7       8       \\\n",
       "userId                                                                    \n",
       "1           0.0     0.0     0.0     0.0     0.0     0.0     0.0     0.0   \n",
       "2           0.0     0.0     0.0     0.0     0.0     0.0     0.0     0.0   \n",
       "3           0.0     0.0     0.0     0.0     0.0     0.0     0.0     0.0   \n",
       "4           0.0     0.0     0.0     0.0     0.0     0.0     0.0     0.0   \n",
       "5           0.0     0.0     4.0     0.0     0.0     0.0     0.0     0.0   \n",
       "\n",
       "movieId  9       10      ...  161084  161155  161594  161830  161918  161944  \\\n",
       "userId                   ...                                                   \n",
       "1           0.0     0.0  ...     0.0     0.0     0.0     0.0     0.0     0.0   \n",
       "2           0.0     4.0  ...     0.0     0.0     0.0     0.0     0.0     0.0   \n",
       "3           0.0     0.0  ...     0.0     0.0     0.0     0.0     0.0     0.0   \n",
       "4           0.0     4.0  ...     0.0     0.0     0.0     0.0     0.0     0.0   \n",
       "5           0.0     0.0  ...     0.0     0.0     0.0     0.0     0.0     0.0   \n",
       "\n",
       "movieId  162376  162542  162672  163949  \n",
       "userId                                   \n",
       "1           0.0     0.0     0.0     0.0  \n",
       "2           0.0     0.0     0.0     0.0  \n",
       "3           0.0     0.0     0.0     0.0  \n",
       "4           0.0     0.0     0.0     0.0  \n",
       "5           0.0     0.0     0.0     0.0  \n",
       "\n",
       "[5 rows x 9066 columns]"
      ]
     },
     "execution_count": 12,
     "metadata": {},
     "output_type": "execute_result"
    }
   ],
   "source": [
    "Ratings = ratings.pivot(\n",
    "    index='userId',\n",
    "    columns='movieId',\n",
    "    values='rating'\n",
    ").fillna(0)\n",
    "Ratings.head()"
   ]
  },
  {
   "cell_type": "code",
   "execution_count": 13,
   "metadata": {},
   "outputs": [
    {
     "data": {
      "text/plain": [
       "array([[0., 0., 0., ..., 0., 0., 0.],\n",
       "       [0., 0., 0., ..., 0., 0., 0.],\n",
       "       [0., 0., 0., ..., 0., 0., 0.],\n",
       "       ...,\n",
       "       [0., 0., 0., ..., 0., 0., 0.],\n",
       "       [4., 0., 0., ..., 0., 0., 0.],\n",
       "       [5., 0., 0., ..., 0., 0., 0.]])"
      ]
     },
     "execution_count": 13,
     "metadata": {},
     "output_type": "execute_result"
    }
   ],
   "source": [
    "R = Ratings.values\n",
    "R"
   ]
  },
  {
   "cell_type": "code",
   "execution_count": 14,
   "metadata": {},
   "outputs": [
    {
     "data": {
      "text/plain": [
       "array([0.00562541, 0.02923009, 0.02007501, 0.09783808, 0.04312817,\n",
       "       0.01582837, 0.03364218, 0.04947055, 0.01864108, 0.01875138,\n",
       "       0.01709685, 0.01853077, 0.02189499, 0.00650783, 0.49161703,\n",
       "       0.01318112, 0.14990073, 0.01819987, 0.16490183, 0.03557247,\n",
       "       0.06265167, 0.07947276, 0.29092213, 0.00849327, 0.00893448,\n",
       "       0.06579528, 0.0097066 , 0.02360468, 0.00694904, 0.41986543,\n",
       "       0.03171189, 0.01941319, 0.04985661, 0.08118244, 0.00529451,\n",
       "       0.04147364, 0.01433929, 0.05255901, 0.02592102, 0.02139863,\n",
       "       0.08487756, 0.03099493, 0.03639974, 0.00926539, 0.00838297,\n",
       "       0.02128833, 0.01621443, 0.19887492, 0.03783366, 0.01665564,\n",
       "       0.01356717, 0.02768586, 0.01411869, 0.01842047, 0.01522171,\n",
       "       0.2081403 , 0.09121994, 0.02746525, 0.02652769, 0.02536951,\n",
       "       0.05994926, 0.02360468, 0.04020516, 0.00926539, 0.01235385,\n",
       "       0.02139863, 0.04268696, 0.04919479, 0.03695125, 0.03849548,\n",
       "       0.01080962, 0.06833223, 0.59921685, 0.02217075, 0.05244871,\n",
       "       0.00838297, 0.11532098, 0.12469667, 0.01527686, 0.0146702 ,\n",
       "       0.06965586, 0.01544231, 0.06982131, 0.04754026, 0.03761306,\n",
       "       0.07533642, 0.01125083, 0.09502537, 0.03342158, 0.02062652,\n",
       "       0.06904919, 0.04279726, 0.06662255, 0.07362674, 0.1285021 ,\n",
       "       0.03469005, 0.04257666, 0.03391794, 0.07114494, 0.00937569,\n",
       "       0.02365983, 0.2972645 , 0.03518641, 0.03397309, 0.19473858,\n",
       "       0.01908229, 0.01009265, 0.01180234, 0.01042356, 0.05504081,\n",
       "       0.13208692, 0.00937569, 0.01378778, 0.01125083, 0.01858593,\n",
       "       0.01075447, 0.02316347, 0.08338848, 0.2475182 , 0.05305537,\n",
       "       0.03562762, 0.01257445, 0.01367748, 0.03524156, 0.09320538,\n",
       "       0.02547981, 0.00937569, 0.13754688, 0.00915508, 0.13611295,\n",
       "       0.01808957, 0.04439665, 0.04649239, 0.13749173, 0.00639753,\n",
       "       0.02106773, 0.03298037, 0.02851313, 0.0270792 , 0.0172623 ,\n",
       "       0.01103022, 0.01819987, 0.03143614, 0.01588352, 0.01886168,\n",
       "       0.02862343, 0.0173726 , 0.05834988, 0.08857269, 0.14184867,\n",
       "       0.02636223, 0.08234061, 0.02382528, 0.01136113, 0.02073682,\n",
       "       0.02084712, 0.12227002, 0.0073351 , 0.05823958, 0.04345908,\n",
       "       0.03562762, 0.01125083, 0.02851313, 0.03358703, 0.15293404,\n",
       "       0.02250165, 0.01036841, 0.04169424, 0.05123538, 0.0073351 ,\n",
       "       0.02161924, 0.0099272 , 0.01764836, 0.00711449, 0.05162144,\n",
       "       0.08289212, 0.09805868, 0.05040812, 0.01637988, 0.00915508,\n",
       "       0.01296051, 0.05515111, 0.01808957, 0.01853077, 0.08118244,\n",
       "       0.01759321, 0.1314251 , 0.0394882 , 0.05206265, 0.02647253,\n",
       "       0.0097066 , 0.02128833, 0.03088462, 0.01919259, 0.15773219,\n",
       "       0.04003971, 0.02823737, 0.03116038, 0.16986543, 0.09061328,\n",
       "       0.05559232, 0.03099493, 0.01626958, 0.01152658, 0.07748732,\n",
       "       0.0146702 , 0.00915508, 0.02123318, 0.00628723, 0.01042356,\n",
       "       0.02614163, 0.30040812, 0.26704169, 0.09485992, 0.02294286,\n",
       "       0.03965365, 0.04831238, 0.01803441, 0.0567505 , 0.11328039,\n",
       "       0.00612177, 0.04003971, 0.01511141, 0.04059122, 0.01268476,\n",
       "       0.0125193 , 0.01058901, 0.02812707, 0.01483565, 0.04638209,\n",
       "       0.01433929, 0.29847783, 0.01268476, 0.04820207, 0.07219281,\n",
       "       0.09921685, 0.01588352, 0.03584822, 0.1190161 , 0.09976837,\n",
       "       0.01952349, 0.19655857, 0.11493492, 0.0298919 , 0.0544893 ,\n",
       "       0.01036841, 0.11052283, 0.04687845, 0.00794176, 0.07290977,\n",
       "       0.05702625, 0.01511141, 0.08278182, 0.05415839, 0.05829473,\n",
       "       0.00948599, 0.04097728, 0.0147805 , 0.01091992, 0.01704169,\n",
       "       0.02001985, 0.19484889, 0.04092213, 0.01511141, 0.08007942,\n",
       "       0.01599382, 0.01847562, 0.15993823, 0.00937569, 0.0940878 ,\n",
       "       0.02983675, 0.01599382, 0.04373483, 0.01516656, 0.09921685,\n",
       "       0.00667328, 0.02547981, 0.02128833, 0.02007501, 0.01047871,\n",
       "       0.03595853, 0.05068387, 0.07721156, 0.01908229, 0.14725347,\n",
       "       0.01411869, 0.12695786, 0.03154644, 0.00810721, 0.03242886,\n",
       "       0.04059122, 0.12122215, 0.03022281, 0.37442091, 0.10269137,\n",
       "       0.00876903, 0.05493051, 0.0397088 , 0.1684315 , 0.01968895,\n",
       "       0.00865872, 0.01290536, 0.08951026, 0.04820207, 0.00871388,\n",
       "       0.242334  , 0.03386278, 0.02360468, 0.06066623, 0.00590117,\n",
       "       0.33791088, 0.10346349, 0.11747187, 0.01615928, 0.0148908 ,\n",
       "       0.05586808, 0.00849327, 0.02106773, 0.00750055, 0.02432164,\n",
       "       0.03066402, 0.01786896, 0.0097066 , 0.05829473, 0.00557026,\n",
       "       0.01036841, 0.02812707, 0.06369954, 0.00937569, 0.03628943,\n",
       "       0.00987205, 0.01103022, 0.03805427, 0.01494595, 0.00865872,\n",
       "       0.01169204, 0.00650783, 0.02183984, 0.04423119, 0.01671079,\n",
       "       0.00876903, 0.08614604, 0.01775866, 0.07092433, 0.08840724,\n",
       "       0.12519303, 0.00937569, 0.02128833, 0.00893448, 0.07103463,\n",
       "       0.01842047, 0.03562762, 0.14912861, 0.02239135, 0.12282153,\n",
       "       0.00661813, 0.01411869, 0.21663358, 0.01864108, 0.01577322,\n",
       "       0.02779616, 0.04985661, 0.08228546, 0.01224355, 0.03182219,\n",
       "       0.01279506, 0.08013457, 0.00893448, 0.02062652, 0.04378998,\n",
       "       0.06761527, 0.01345687, 0.08581513, 0.01235385, 0.0098169 ,\n",
       "       0.02547981, 0.00926539, 0.05250386, 0.02884403, 0.39471652,\n",
       "       0.03915729, 0.10704831, 0.02349437, 0.17295389, 0.03816457,\n",
       "       0.03827487, 0.12960512, 0.31855283, 0.01952349, 0.05482021,\n",
       "       0.04643724, 0.00838297, 0.01764836, 0.06298257, 0.00816236,\n",
       "       0.05051842, 0.02283256, 0.02338407, 0.00716964, 0.02294286,\n",
       "       0.03507611, 0.12905361, 0.01047871, 0.01533201, 0.16611516,\n",
       "       0.03364218, 0.14808074, 0.0892345 , 0.02338407, 0.01246415,\n",
       "       0.01103022, 0.07015222, 0.00937569, 0.02360468, 0.01147143,\n",
       "       0.03783366, 0.05807412, 0.06640194, 0.02007501, 0.04114273,\n",
       "       0.01533201, 0.03728215, 0.13892566, 0.01075447, 0.02057137,\n",
       "       0.09348114, 0.12618575, 0.06844253, 0.00667328, 0.13291418,\n",
       "       0.12249062, 0.03016766, 0.08371939, 0.07809398, 0.01069932,\n",
       "       0.02801677, 0.00948599, 0.00965144, 0.08813148, 0.01621443,\n",
       "       0.05095963, 0.10484227, 0.02139863, 0.00727995, 0.00761085,\n",
       "       0.01273991, 0.02900949, 0.01047871, 0.01136113, 0.05713655,\n",
       "       0.02095742, 0.47137657, 0.03386278, 0.01340172, 0.01257445,\n",
       "       0.02834767, 0.19683433, 0.03066402, 0.00959629, 0.11636885,\n",
       "       0.2179572 , 0.01891683, 0.17891021, 0.01400838, 0.01687624,\n",
       "       0.09044783, 0.02735495, 0.42234723, 0.00821752, 0.02498345,\n",
       "       0.08658725, 0.34673505, 0.03617913, 0.01819987, 0.19953673,\n",
       "       0.01555261, 0.00683874, 0.03518641, 0.0443415 , 0.16672182,\n",
       "       0.19898522, 0.0249283 , 0.04698875, 0.00860357, 0.007666  ,\n",
       "       0.05520627, 0.06320318, 0.02448709, 0.01025811, 0.00860357,\n",
       "       0.02437679, 0.02911979, 0.04268696, 0.0345246 , 0.01125083,\n",
       "       0.054379  , 0.04390029, 0.00716964, 0.01555261, 0.0818994 ,\n",
       "       0.08807633, 0.0493051 , 0.01847562, 0.00761085, 0.14256563,\n",
       "       0.00761085, 0.01378778, 0.02051621, 0.34276417, 0.05768807,\n",
       "       0.0146702 , 0.01262961, 0.00926539, 0.14648136, 0.01621443,\n",
       "       0.05691595, 0.0198544 , 0.27862343, 0.07770792, 0.05730201,\n",
       "       0.02272226, 0.08730421, 0.05608868, 0.02680344, 0.05570263,\n",
       "       0.01224355, 0.0472645 , 0.04759541, 0.23516435, 0.03275976,\n",
       "       0.04334878, 0.02068167, 0.06022502, 0.12166336, 0.02095742,\n",
       "       0.04654754, 0.13534083, 0.0099272 , 0.01147143, 0.00816236,\n",
       "       0.01047871, 0.02680344, 0.02206045, 0.13219722, 0.0395985 ,\n",
       "       0.03165674, 0.88793294, 0.05140084, 0.00750055, 0.05338628,\n",
       "       0.03187734, 0.01136113, 0.08868299, 0.02371498, 0.02625193,\n",
       "       0.01213325, 0.01968895, 0.10291198, 0.06287227, 0.04312817,\n",
       "       0.11747187, 0.11212221, 0.06800132, 0.73196559, 0.01103022,\n",
       "       0.01069932, 0.01615928, 0.01687624, 0.03849548, 0.05167659,\n",
       "       0.02377013, 0.04301787, 0.0147805 , 0.13247298, 0.20483124,\n",
       "       0.01588352, 0.13374145, 0.01020296, 0.00308846, 0.33283697,\n",
       "       0.00788661, 0.05498566, 0.00915508, 0.07996912, 0.14063534,\n",
       "       0.02145378, 0.22496139, 0.02106773, 0.01709685, 0.03419369,\n",
       "       0.01069932, 0.05691595, 0.03044341, 0.03397309, 0.07081403,\n",
       "       0.19479373, 0.08945511, 0.11824399, 0.08460181, 0.01516656,\n",
       "       0.01864108, 0.05173174, 0.04864328, 0.00623208, 0.14703287,\n",
       "       0.02774101, 0.17207148, 0.1289433 , 0.03066402, 0.03220825,\n",
       "       0.01417384, 0.02531436, 0.02217075, 0.04015001, 0.15298919,\n",
       "       0.01621443, 0.02581072, 0.01411869, 0.01665564, 0.05608868,\n",
       "       0.04114273, 0.01615928, 0.04621663, 0.55388264, 0.03071917,\n",
       "       0.05790867, 0.06733951, 0.0297816 , 0.01290536, 0.01031326,\n",
       "       0.01268476, 0.01792411, 0.01103022, 0.00700419, 0.00843812,\n",
       "       0.01180234, 0.01141628, 0.00661813, 0.02051621, 0.0197441 ,\n",
       "       0.06022502, 0.01555261, 0.00898963, 0.01610413, 0.0121884 ,\n",
       "       0.07699096, 0.07070373, 0.10247077, 0.0348555 , 0.01058901,\n",
       "       0.00860357, 0.12431061, 0.02250165, 0.28093977, 0.04731966,\n",
       "       0.06386499, 0.00772116, 0.02878888, 0.05305537, 0.0423009 ,\n",
       "       0.01395323, 0.02172954, 0.01069932, 0.21735054, 0.15729098,\n",
       "       0.01301566, 0.02735495, 0.00827267, 0.01367748, 0.01301566,\n",
       "       0.04969115])"
      ]
     },
     "execution_count": 14,
     "metadata": {},
     "output_type": "execute_result"
    }
   ],
   "source": [
    "user_ratings_mean = np.mean(R, axis=1)\n",
    "user_ratings_mean"
   ]
  },
  {
   "cell_type": "code",
   "execution_count": 15,
   "metadata": {},
   "outputs": [
    {
     "data": {
      "text/plain": [
       "array([[-0.00562541, -0.00562541, -0.00562541, ..., -0.00562541,\n",
       "        -0.00562541, -0.00562541],\n",
       "       [-0.02923009, -0.02923009, -0.02923009, ..., -0.02923009,\n",
       "        -0.02923009, -0.02923009],\n",
       "       [-0.02007501, -0.02007501, -0.02007501, ..., -0.02007501,\n",
       "        -0.02007501, -0.02007501],\n",
       "       ...,\n",
       "       [-0.01367748, -0.01367748, -0.01367748, ..., -0.01367748,\n",
       "        -0.01367748, -0.01367748],\n",
       "       [ 3.98698434, -0.01301566, -0.01301566, ..., -0.01301566,\n",
       "        -0.01301566, -0.01301566],\n",
       "       [ 4.95030885, -0.04969115, -0.04969115, ..., -0.04969115,\n",
       "        -0.04969115, -0.04969115]])"
      ]
     },
     "execution_count": 15,
     "metadata": {},
     "output_type": "execute_result"
    }
   ],
   "source": [
    "R_demeaned = R - user_ratings_mean.reshape(-1,1)\n",
    "R_demeaned"
   ]
  },
  {
   "cell_type": "code",
   "execution_count": 16,
   "metadata": {},
   "outputs": [],
   "source": [
    "U,sigma,Vt = svds(R_demeaned, k=50)"
   ]
  },
  {
   "cell_type": "code",
   "execution_count": 17,
   "metadata": {},
   "outputs": [],
   "source": [
    "sigma = np.diag(sigma)"
   ]
  },
  {
   "cell_type": "code",
   "execution_count": 18,
   "metadata": {},
   "outputs": [],
   "source": [
    "all_user_predicted_ratings = np.dot(np.dot(U,sigma), Vt) + user_ratings_mean.reshape(-1,1)"
   ]
  },
  {
   "cell_type": "code",
   "execution_count": 19,
   "metadata": {},
   "outputs": [
    {
     "ename": "IndexError",
     "evalue": "single positional indexer is out-of-bounds",
     "output_type": "error",
     "traceback": [
      "\u001b[0;31m---------------------------------------------------------------------------\u001b[0m",
      "\u001b[0;31mIndexError\u001b[0m                                Traceback (most recent call last)",
      "\u001b[0;32m<ipython-input-19-14feda4e02b4>\u001b[0m in \u001b[0;36m<module>\u001b[0;34m\u001b[0m\n\u001b[1;32m      1\u001b[0m \u001b[0mpreds_df\u001b[0m \u001b[0;34m=\u001b[0m \u001b[0mpd\u001b[0m\u001b[0;34m.\u001b[0m\u001b[0mDataFrame\u001b[0m\u001b[0;34m(\u001b[0m\u001b[0mall_user_predicted_ratings\u001b[0m\u001b[0;34m,\u001b[0m \u001b[0mcolumns\u001b[0m \u001b[0;34m=\u001b[0m \u001b[0mRatings\u001b[0m\u001b[0;34m.\u001b[0m\u001b[0mcolumns\u001b[0m\u001b[0;34m)\u001b[0m\u001b[0;34m\u001b[0m\u001b[0;34m\u001b[0m\u001b[0m\n\u001b[0;32m----> 2\u001b[0;31m \u001b[0mpreds_df\u001b[0m\u001b[0;34m.\u001b[0m\u001b[0miloc\u001b[0m\u001b[0;34m[\u001b[0m\u001b[0;36m862\u001b[0m\u001b[0;34m]\u001b[0m\u001b[0;34m\u001b[0m\u001b[0;34m\u001b[0m\u001b[0m\n\u001b[0m",
      "\u001b[0;32m~/miniconda3/envs/movies/lib/python3.8/site-packages/pandas/core/indexing.py\u001b[0m in \u001b[0;36m__getitem__\u001b[0;34m(self, key)\u001b[0m\n\u001b[1;32m    877\u001b[0m \u001b[0;34m\u001b[0m\u001b[0m\n\u001b[1;32m    878\u001b[0m             \u001b[0mmaybe_callable\u001b[0m \u001b[0;34m=\u001b[0m \u001b[0mcom\u001b[0m\u001b[0;34m.\u001b[0m\u001b[0mapply_if_callable\u001b[0m\u001b[0;34m(\u001b[0m\u001b[0mkey\u001b[0m\u001b[0;34m,\u001b[0m \u001b[0mself\u001b[0m\u001b[0;34m.\u001b[0m\u001b[0mobj\u001b[0m\u001b[0;34m)\u001b[0m\u001b[0;34m\u001b[0m\u001b[0;34m\u001b[0m\u001b[0m\n\u001b[0;32m--> 879\u001b[0;31m             \u001b[0;32mreturn\u001b[0m \u001b[0mself\u001b[0m\u001b[0;34m.\u001b[0m\u001b[0m_getitem_axis\u001b[0m\u001b[0;34m(\u001b[0m\u001b[0mmaybe_callable\u001b[0m\u001b[0;34m,\u001b[0m \u001b[0maxis\u001b[0m\u001b[0;34m=\u001b[0m\u001b[0maxis\u001b[0m\u001b[0;34m)\u001b[0m\u001b[0;34m\u001b[0m\u001b[0;34m\u001b[0m\u001b[0m\n\u001b[0m\u001b[1;32m    880\u001b[0m \u001b[0;34m\u001b[0m\u001b[0m\n\u001b[1;32m    881\u001b[0m     \u001b[0;32mdef\u001b[0m \u001b[0m_is_scalar_access\u001b[0m\u001b[0;34m(\u001b[0m\u001b[0mself\u001b[0m\u001b[0;34m,\u001b[0m \u001b[0mkey\u001b[0m\u001b[0;34m:\u001b[0m \u001b[0mTuple\u001b[0m\u001b[0;34m)\u001b[0m\u001b[0;34m:\u001b[0m\u001b[0;34m\u001b[0m\u001b[0;34m\u001b[0m\u001b[0m\n",
      "\u001b[0;32m~/miniconda3/envs/movies/lib/python3.8/site-packages/pandas/core/indexing.py\u001b[0m in \u001b[0;36m_getitem_axis\u001b[0;34m(self, key, axis)\u001b[0m\n\u001b[1;32m   1494\u001b[0m \u001b[0;34m\u001b[0m\u001b[0m\n\u001b[1;32m   1495\u001b[0m             \u001b[0;31m# validate the location\u001b[0m\u001b[0;34m\u001b[0m\u001b[0;34m\u001b[0m\u001b[0;34m\u001b[0m\u001b[0m\n\u001b[0;32m-> 1496\u001b[0;31m             \u001b[0mself\u001b[0m\u001b[0;34m.\u001b[0m\u001b[0m_validate_integer\u001b[0m\u001b[0;34m(\u001b[0m\u001b[0mkey\u001b[0m\u001b[0;34m,\u001b[0m \u001b[0maxis\u001b[0m\u001b[0;34m)\u001b[0m\u001b[0;34m\u001b[0m\u001b[0;34m\u001b[0m\u001b[0m\n\u001b[0m\u001b[1;32m   1497\u001b[0m \u001b[0;34m\u001b[0m\u001b[0m\n\u001b[1;32m   1498\u001b[0m             \u001b[0;32mreturn\u001b[0m \u001b[0mself\u001b[0m\u001b[0;34m.\u001b[0m\u001b[0mobj\u001b[0m\u001b[0;34m.\u001b[0m\u001b[0m_ixs\u001b[0m\u001b[0;34m(\u001b[0m\u001b[0mkey\u001b[0m\u001b[0;34m,\u001b[0m \u001b[0maxis\u001b[0m\u001b[0;34m=\u001b[0m\u001b[0maxis\u001b[0m\u001b[0;34m)\u001b[0m\u001b[0;34m\u001b[0m\u001b[0;34m\u001b[0m\u001b[0m\n",
      "\u001b[0;32m~/miniconda3/envs/movies/lib/python3.8/site-packages/pandas/core/indexing.py\u001b[0m in \u001b[0;36m_validate_integer\u001b[0;34m(self, key, axis)\u001b[0m\n\u001b[1;32m   1435\u001b[0m         \u001b[0mlen_axis\u001b[0m \u001b[0;34m=\u001b[0m \u001b[0mlen\u001b[0m\u001b[0;34m(\u001b[0m\u001b[0mself\u001b[0m\u001b[0;34m.\u001b[0m\u001b[0mobj\u001b[0m\u001b[0;34m.\u001b[0m\u001b[0m_get_axis\u001b[0m\u001b[0;34m(\u001b[0m\u001b[0maxis\u001b[0m\u001b[0;34m)\u001b[0m\u001b[0;34m)\u001b[0m\u001b[0;34m\u001b[0m\u001b[0;34m\u001b[0m\u001b[0m\n\u001b[1;32m   1436\u001b[0m         \u001b[0;32mif\u001b[0m \u001b[0mkey\u001b[0m \u001b[0;34m>=\u001b[0m \u001b[0mlen_axis\u001b[0m \u001b[0;32mor\u001b[0m \u001b[0mkey\u001b[0m \u001b[0;34m<\u001b[0m \u001b[0;34m-\u001b[0m\u001b[0mlen_axis\u001b[0m\u001b[0;34m:\u001b[0m\u001b[0;34m\u001b[0m\u001b[0;34m\u001b[0m\u001b[0m\n\u001b[0;32m-> 1437\u001b[0;31m             \u001b[0;32mraise\u001b[0m \u001b[0mIndexError\u001b[0m\u001b[0;34m(\u001b[0m\u001b[0;34m\"single positional indexer is out-of-bounds\"\u001b[0m\u001b[0;34m)\u001b[0m\u001b[0;34m\u001b[0m\u001b[0;34m\u001b[0m\u001b[0m\n\u001b[0m\u001b[1;32m   1438\u001b[0m \u001b[0;34m\u001b[0m\u001b[0m\n\u001b[1;32m   1439\u001b[0m     \u001b[0;31m# -------------------------------------------------------------------\u001b[0m\u001b[0;34m\u001b[0m\u001b[0;34m\u001b[0m\u001b[0;34m\u001b[0m\u001b[0m\n",
      "\u001b[0;31mIndexError\u001b[0m: single positional indexer is out-of-bounds"
     ]
    }
   ],
   "source": [
    "preds_df = pd.DataFrame(all_user_predicted_ratings, columns = Ratings.columns)\n",
    "preds_df.iloc[862]"
   ]
  },
  {
   "cell_type": "code",
   "execution_count": null,
   "metadata": {},
   "outputs": [],
   "source": [
    "preds_df"
   ]
  },
  {
   "cell_type": "code",
   "execution_count": null,
   "metadata": {},
   "outputs": [],
   "source": [
    "preds_df.T.iloc[:,0].sort_values(ascending=False).index"
   ]
  },
  {
   "cell_type": "code",
   "execution_count": null,
   "metadata": {},
   "outputs": [],
   "source": [
    "preds_df.T.apply(lambda x:x.sort_values(ascending=False).index).reset_index(drop=True)"
   ]
  }
 ],
 "metadata": {
  "kernelspec": {
   "display_name": "Python 3",
   "language": "python",
   "name": "python3"
  },
  "language_info": {
   "codemirror_mode": {
    "name": "ipython",
    "version": 3
   },
   "file_extension": ".py",
   "mimetype": "text/x-python",
   "name": "python",
   "nbconvert_exporter": "python",
   "pygments_lexer": "ipython3",
   "version": "3.8.5"
  }
 },
 "nbformat": 4,
 "nbformat_minor": 4
}
